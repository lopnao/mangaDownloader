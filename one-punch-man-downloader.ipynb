{
 "cells": [
  {
   "cell_type": "code",
   "execution_count": 1,
   "metadata": {},
   "outputs": [],
   "source": [
    "import bs4\n",
    "import re\n",
    "import requests\n",
    "import zipfile\n",
    "import os\n",
    "import shutil"
   ]
  },
  {
   "cell_type": "code",
   "execution_count": 2,
   "metadata": {},
   "outputs": [],
   "source": [
    "downdir = \"J:\\\\Mangas\\\\TEST\\\\\""
   ]
  },
  {
   "cell_type": "code",
   "execution_count": 3,
   "metadata": {},
   "outputs": [],
   "source": [
    "res = requests.get('https://www.japscan.cc/lecture-en-ligne/one-punch-man/1/')"
   ]
  },
  {
   "cell_type": "code",
   "execution_count": 4,
   "metadata": {},
   "outputs": [],
   "source": [
    "soup = bs4.BeautifulSoup(res.text, \"lxml\")"
   ]
  },
  {
   "cell_type": "code",
   "execution_count": 5,
   "metadata": {},
   "outputs": [],
   "source": [
    "liste_elements = soup.find_all(id='image')"
   ]
  },
  {
   "cell_type": "code",
   "execution_count": 6,
   "metadata": {},
   "outputs": [
    {
     "data": {
      "text/plain": [
       "[<img alt=\"Scan One Punch Man 1 VF page 1\" data-img=\"OPM-JAPSCAN-01.jpg\" id=\"image\" itemprop=\"image\" src=\"https://cdn.japscan.cc/lel/One-Punch-Man/1/OPM-JAPSCAN-01.jpg\"/>]"
      ]
     },
     "execution_count": 6,
     "metadata": {},
     "output_type": "execute_result"
    }
   ],
   "source": [
    "liste_elements"
   ]
  },
  {
   "cell_type": "code",
   "execution_count": 7,
   "metadata": {},
   "outputs": [],
   "source": [
    "test = requests.get('https://cdn.japscan.cc/lel/One-Punch-Man/1/OPM-JAPSCAN-01.jpg')"
   ]
  },
  {
   "cell_type": "code",
   "execution_count": 8,
   "metadata": {},
   "outputs": [],
   "source": [
    "def downloadChapter(folderPath:str, chapter:int):\n",
    "    os.chdir(folderPath)\n",
    "    if not os.path.isfile(f'Chapter-{chapter}.zip'):\n",
    "        try:\n",
    "            with zipfile.ZipFile(f'Chapter-{chapter}.zip', 'w') as myzip:\n",
    "                for x in range(1, 10):\n",
    "                    r = requests.get(f'https://cdn.japscan.cc/lel/One-Punch-Man/{chapter}/OPM-JAPSCAN-0{x}.jpg', stream=True)\n",
    "                    if r.status_code == 200:\n",
    "                        with open(f'OPM-0{x}.jpg', 'wb') as f:\n",
    "                            r.raw.decode_content = True\n",
    "                            shutil.copyfileobj(r.raw, f)\n",
    "                            myzip.write(f'OPM-0{x}.jpg')\n",
    "                        os.remove(f'OPM-0{x}.jpg')\n",
    "                    else:pass\n",
    "                for x in range(10, 40):\n",
    "                    r = requests.get(f'https://cdn.japscan.cc/lel/One-Punch-Man/{chapter}/OPM-JAPSCAN-{x}.jpg', stream=True)\n",
    "                    if r.status_code == 200:\n",
    "                        with open(f'OPM-{x}.jpg', 'wb') as f:\n",
    "                            r.raw.decode_content = True\n",
    "                            shutil.copyfileobj(r.raw, f)\n",
    "                            myzip.write(f'OPM-{x}.jpg')\n",
    "                        os.remove(f'OPM-{x}.jpg')\n",
    "                    else:break\n",
    "            return (f'Chapter-{chapter}.zip')\n",
    "        except requests.HTTPError:\n",
    "            return (f'Chapter-{chapter}.zip')\n",
    "    else:return (f'Chapter-{chapter}.zip')"
   ]
  },
  {
   "cell_type": "code",
   "execution_count": 12,
   "metadata": {},
   "outputs": [
    {
     "name": "stdout",
     "output_type": "stream",
     "text": [
      "Chapter-1.zip\n",
      "Chapter-2.zip\n",
      "Chapter-3.zip\n",
      "Chapter-4.zip\n",
      "Chapter-5.zip\n",
      "Chapter-6.zip\n",
      "Chapter-7.zip\n",
      "Chapter-8.zip\n",
      "Chapter-9.zip\n",
      "Chapter-10.zip\n",
      "Chapter-11.zip\n",
      "Chapter-12.zip\n",
      "Chapter-13.zip\n",
      "Chapter-14.zip\n",
      "Chapter-15.zip\n",
      "Chapter-16.zip\n",
      "Chapter-17.zip\n",
      "Chapter-18.zip\n",
      "Chapter-19.zip\n",
      "Chapter-20.zip\n",
      "Chapter-21.zip\n",
      "Chapter-22.zip\n",
      "Chapter-23.zip\n",
      "Chapter-24.zip\n",
      "Chapter-25.zip\n",
      "Chapter-26.zip\n",
      "Chapter-27.zip\n",
      "Chapter-28.zip\n",
      "Chapter-29.zip\n",
      "Chapter-30.zip\n",
      "Chapter-31.zip\n",
      "Chapter-32.zip\n",
      "Chapter-33.zip\n",
      "Chapter-34.zip\n",
      "Chapter-35.zip\n",
      "Chapter-36.zip\n",
      "Chapter-37.zip\n",
      "Chapter-38.zip\n",
      "Chapter-39.zip\n",
      "Chapter-40.zip\n",
      "Chapter-41.zip\n",
      "Chapter-42.zip\n",
      "Chapter-43.zip\n",
      "Chapter-44.zip\n",
      "Chapter-45.zip\n",
      "Chapter-46.zip\n",
      "Chapter-47.zip\n",
      "Chapter-48.zip\n",
      "Chapter-49.zip\n",
      "Chapter-50.zip\n",
      "Chapter-51.zip\n",
      "Chapter-52.zip\n",
      "Chapter-53.zip\n",
      "Chapter-54.zip\n",
      "Chapter-55.zip\n",
      "Chapter-56.zip\n",
      "Chapter-57.zip\n",
      "Chapter-58.zip\n",
      "Chapter-59.zip\n",
      "Chapter-60.zip\n",
      "Chapter-61.zip\n",
      "Chapter-62.zip\n",
      "Chapter-63.zip\n",
      "Chapter-64.zip\n",
      "Chapter-65.zip\n",
      "Chapter-66.zip\n",
      "Chapter-67.zip\n",
      "Chapter-68.zip\n",
      "Chapter-69.zip\n",
      "Chapter-70.zip\n",
      "Chapter-71.zip\n",
      "Chapter-72.zip\n",
      "Chapter-73.zip\n",
      "Chapter-74.zip\n",
      "Chapter-75.zip\n",
      "Chapter-76.zip\n",
      "Chapter-77.zip\n",
      "Chapter-78.zip\n",
      "Chapter-79.zip\n",
      "Chapter-80.zip\n",
      "Chapter-81.zip\n",
      "Chapter-82.zip\n",
      "Chapter-83.zip\n",
      "Chapter-84.zip\n",
      "Chapter-85.zip\n",
      "Chapter-86.zip\n",
      "Chapter-87.zip\n",
      "Chapter-88.zip\n",
      "Chapter-89.zip\n",
      "Chapter-90.zip\n",
      "Chapter-91.zip\n",
      "Chapter-92.zip\n",
      "Chapter-93.zip\n",
      "Chapter-94.zip\n",
      "Chapter-95.zip\n",
      "Chapter-96.zip\n",
      "Chapter-97.zip\n",
      "Chapter-98.zip\n",
      "Chapter-99.zip\n",
      "Chapter-100.zip\n",
      "Chapter-101.zip\n",
      "Chapter-102.zip\n",
      "Chapter-103.zip\n",
      "Chapter-104.zip\n",
      "Chapter-105.zip\n",
      "Chapter-106.zip\n",
      "Chapter-107.zip\n",
      "Chapter-108.zip\n",
      "Chapter-109.zip\n",
      "Chapter-110.zip\n",
      "Chapter-111.zip\n",
      "Chapter-112.zip\n",
      "Chapter-113.zip\n",
      "Chapter-114.zip\n",
      "Chapter-115.zip\n",
      "Chapter-116.zip\n",
      "Chapter-117.zip\n",
      "Chapter-118.zip\n",
      "Chapter-119.zip\n",
      "Chapter-120.zip\n",
      "Chapter-121.zip\n",
      "Chapter-122.zip\n",
      "Chapter-123.zip\n",
      "Chapter-124.zip\n",
      "Chapter-125.zip\n",
      "Chapter-126.zip\n",
      "Chapter-127.zip\n",
      "Chapter-128.zip\n",
      "Chapter-129.zip\n",
      "Chapter-130.zip\n",
      "Chapter-131.zip\n",
      "Chapter-132.zip\n",
      "Chapter-133.zip\n",
      "Chapter-134.zip\n",
      "Chapter-135.zip\n",
      "Chapter-136.zip\n",
      "Chapter-137.zip\n",
      "Chapter-138.zip\n",
      "Chapter-139.zip\n",
      "Chapter-140.zip\n",
      "Chapter-141.zip\n",
      "Chapter-142.zip\n",
      "Chapter-143.zip\n",
      "Chapter-144.zip\n",
      "Chapter-145.zip\n",
      "Chapter-146.zip\n",
      "Chapter-147.zip\n",
      "Chapter-148.zip\n",
      "Chapter-149.zip\n",
      "Chapter-150.zip\n",
      "Chapter-151.zip\n",
      "Chapter-152.zip\n",
      "Chapter-153.zip\n",
      "Chapter-154.zip\n",
      "Chapter-155.zip\n"
     ]
    }
   ],
   "source": [
    "for x in range(1,156):\n",
    "    print(downloadChapter(folderPath='J:\\\\Mangas\\\\TEST\\\\OPM\\\\', chapter=x))"
   ]
  },
  {
   "cell_type": "code",
   "execution_count": 10,
   "metadata": {},
   "outputs": [
    {
     "data": {
      "text/plain": [
       "'Chapter-66.zip'"
      ]
     },
     "execution_count": 10,
     "metadata": {},
     "output_type": "execute_result"
    }
   ],
   "source": [
    "downloadChapter(folderPath='J:\\\\Mangas\\\\TEST\\\\OPM\\\\', chapter=66)"
   ]
  },
  {
   "cell_type": "code",
   "execution_count": null,
   "metadata": {},
   "outputs": [],
   "source": []
  }
 ],
 "metadata": {
  "kernelspec": {
   "display_name": "Python 3",
   "language": "python",
   "name": "python3"
  },
  "language_info": {
   "codemirror_mode": {
    "name": "ipython",
    "version": 3
   },
   "file_extension": ".py",
   "mimetype": "text/x-python",
   "name": "python",
   "nbconvert_exporter": "python",
   "pygments_lexer": "ipython3",
   "version": "3.6.6"
  }
 },
 "nbformat": 4,
 "nbformat_minor": 2
}
