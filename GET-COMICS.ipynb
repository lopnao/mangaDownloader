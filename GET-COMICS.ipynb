{
 "cells": [
  {
   "cell_type": "code",
   "execution_count": 1,
   "metadata": {},
   "outputs": [],
   "source": [
    "import bs4\n",
    "import re\n",
    "import requests\n",
    "import zipfile\n",
    "import os\n",
    "import shutil"
   ]
  },
  {
   "cell_type": "code",
   "execution_count": 18,
   "metadata": {},
   "outputs": [],
   "source": [
    "def getSearchSoup(search:str, number=1):\n",
    "    return requests.get(f'https://getcomics.info/page/{number}/?s={search}')"
   ]
  },
  {
   "cell_type": "code",
   "execution_count": 43,
   "metadata": {},
   "outputs": [],
   "source": [
    "def getNumberOfPages(search:str)->int:\n",
    "    res = requests.get(f'https://getcomics.info/?s={search}')\n",
    "    soup = bs4.BeautifulSoup(res.text, \"lxml\")\n",
    "    a = soup.find('ul', class_=\"page-numbers\")\n",
    "    return len(a.findAll('li'))"
   ]
  },
  {
   "cell_type": "code",
   "execution_count": 47,
   "metadata": {},
   "outputs": [],
   "source": [
    "def getSearch(search:str):\n",
    "    total = []\n",
    "    for x in range(getNumberOfPages(search)):\n",
    "        soup = bs4.BeautifulSoup(getSearchSoup(search).text, \"lxml\")\n",
    "        a = soup.findAll(class_=\"post-title\")\n",
    "        [total.append((b.a.text, b.a['href'])) for b in a]\n",
    "    return total"
   ]
  },
  {
   "cell_type": "code",
   "execution_count": 53,
   "metadata": {},
   "outputs": [],
   "source": [
    "url='https://getcomics.info/go.php-url=/aHR0cDovL3dlZWtseTEuY29taWNmaWxlcy5ydS8yMDE4LjA1LjIzL1VwMS9TdGFyJTIwV2FycyUyMC0lMjBUaGUlMjBMYXN0JTIwSmVkaSUyMEFkYXB0YXRpb24lMjAwMDIlMjAlMjgyMDE4JTI5JTIwJTI4RGlnaXRhbCUyOSUyMCUyOEtpbGVrby1FbXBpcmUlMjkuY2Jy'"
   ]
  },
  {
   "cell_type": "code",
   "execution_count": 57,
   "metadata": {},
   "outputs": [],
   "source": [
    "r = requests.get(url, allow_redirects=True, stream=True)"
   ]
  },
  {
   "cell_type": "code",
   "execution_count": 58,
   "metadata": {},
   "outputs": [
    {
     "data": {
      "text/plain": [
       "'https://getcomics.info/go.php-url=/aHR0cDovL3dlZWtseTEuY29taWNmaWxlcy5ydS8yMDE4LjA1LjIzL1VwMS9TdGFyJTIwV2FycyUyMC0lMjBUaGUlMjBMYXN0JTIwSmVkaSUyMEFkYXB0YXRpb24lMjAwMDIlMjAlMjgyMDE4JTI5JTIwJTI4RGlnaXRhbCUyOSUyMCUyOEtpbGVrby1FbXBpcmUlMjkuY2Jy'"
      ]
     },
     "execution_count": 58,
     "metadata": {},
     "output_type": "execute_result"
    }
   ],
   "source": [
    "r.url"
   ]
  },
  {
   "cell_type": "code",
   "execution_count": null,
   "metadata": {},
   "outputs": [],
   "source": []
  }
 ],
 "metadata": {
  "kernelspec": {
   "display_name": "Python 3",
   "language": "python",
   "name": "python3"
  },
  "language_info": {
   "codemirror_mode": {
    "name": "ipython",
    "version": 3
   },
   "file_extension": ".py",
   "mimetype": "text/x-python",
   "name": "python",
   "nbconvert_exporter": "python",
   "pygments_lexer": "ipython3",
   "version": "3.6.6"
  }
 },
 "nbformat": 4,
 "nbformat_minor": 2
}
