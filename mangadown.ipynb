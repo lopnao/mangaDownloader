{
 "cells": [
  {
   "cell_type": "code",
   "execution_count": 1,
   "metadata": {},
   "outputs": [],
   "source": [
    "import bs4\n",
    "import logging\n",
    "import os\n",
    "import re\n",
    "import requests\n",
    "import shutil\n",
    "import threading\n",
    "import base64\n",
    "import colorama as col"
   ]
  },
  {
   "cell_type": "code",
   "execution_count": 2,
   "metadata": {},
   "outputs": [],
   "source": [
    "logging.basicConfig(level=logging.INFO,\n",
    "                    format=' %(asctime)s -%(levelname)s - %(message)s')"
   ]
  },
  {
   "cell_type": "code",
   "execution_count": 3,
   "metadata": {},
   "outputs": [],
   "source": [
    "downdir = \"J:\\\\Mangas\\\\TEST\\\\\""
   ]
  },
  {
   "cell_type": "code",
   "execution_count": 4,
   "metadata": {},
   "outputs": [],
   "source": [
    "mangadict = {\n",
    "    'Douluo': 'http://kumastudio.fr/slide/series/douluo_dalu___combat_continent/',\n",
    "    'Gosu': 'https://monster-no-scantrad.fr/lel2/series/gosu_the_master/',\n",
    "    'Solo Leveling': 'https://monster-no-scantrad.fr/lel2/series/solo_leveling/',\n",
    "    'Skeleton Soldier': 'https://monster-no-scantrad.fr/lel2/series/skeleton_soldier/',\n",
    "    'The Gamer': 'http://ajianoscantrad.fr/reader/series/the-gamer/',\n",
    "    'DICE': 'https://reader.deathtollscans.net/series/dice_the_cube_that_changes_everything/',\n",
    "    'Yaoshenji' : 'http://monster-no-scantrad.fr/lel2/series/tales_of_demons_and_gods/',\n",
    "    'Star_Martial_God_Technique': 'http://monster-no-scantrad.fr/lel2/series/star_martial_god_technique/',\n",
    "    'Ane Naru Mono': 'https://monster-no-scantrad.fr/lel2/series/ane_naru_mono/',\n",
    "    \"The Scholar's Reincarnation\" : 'https://monster-no-scantrad.fr/lel2/series/the_scholars_reincarnation/',\n",
    "    'Tensei Shitara Ken Deshita' : 'https://monster-no-scantrad.fr/lel2/series/tensei_shitara_ken_deshita/',\n",
    "    'Dou Po Cangqiong' : 'http://www.ryozanpaku.fr/LEL3/series/dou-po-cangqiong/',\n",
    "    'Dou Po Cangqiong Zhi Yao Lao Chuanqi' : 'http://www.ryozanpaku.fr/LEL3/series/dou-po-cang-qiong-zhi-yao-lao-chuanqi/',\n",
    "    'Wizardly Tower' : 'http://www.ryozanpaku.fr/LEL3/series/wizardly_tower/',\n",
    "    'Volcanic Age' : 'http://www.ryozanpaku.fr/LEL3/series/volcanic_age/'\n",
    "    }"
   ]
  },
  {
   "cell_type": "code",
   "execution_count": 5,
   "metadata": {},
   "outputs": [],
   "source": [
    "def rename_chap(chapitre):\n",
    "    pattern = re.compile('(\\w+)\\.(\\d*.+)(\\.zip)?')\n",
    "    pattern_one = re.compile('(\\d+)')\n",
    "    pattern_two = re.compile('(\\d+)\\.\\d')\n",
    "    mo = pattern.match(chapitre)\n",
    "    if not mo:return chapitre\n",
    "    mo_one = pattern_one.search(chapitre)\n",
    "    mo_two = pattern_two.search(chapitre)\n",
    "    if mo_two:\n",
    "        new_name = mo.group(1) + '.' + mo_one.group(0) + '.two'\n",
    "        return new_name\n",
    "    elif mo_one:\n",
    "        new_name = mo.group(1) + '.' + mo_one.group(0) + '.one'\n",
    "        return new_name\n",
    "    else:return chapitre"
   ]
  },
  {
   "cell_type": "code",
   "execution_count": 6,
   "metadata": {},
   "outputs": [],
   "source": [
    "def mangadown(manga, downdir):\n",
    "    downd = downdir + manga + '\\\\'\n",
    "    if not os.path.isdir(downd):os.mkdir(downd)\n",
    "    mangadict = {\n",
    "    'Douluo': 'http://kumastudio.fr/slide/series/douluo_dalu___combat_continent/',\n",
    "    'Gosu': 'https://monster-no-scantrad.fr/lel2/series/gosu_the_master/',\n",
    "    'Solo Leveling': 'https://monster-no-scantrad.fr/lel2/series/solo_leveling/',\n",
    "    'Skeleton Soldier': 'https://monster-no-scantrad.fr/lel2/series/skeleton_soldier/',\n",
    "    'The Gamer': 'http://ajianoscantrad.fr/reader/series/the-gamer/',\n",
    "    'DICE': 'https://reader.deathtollscans.net/series/dice_the_cube_that_changes_everything/',\n",
    "    'Yaoshenji' : 'http://monster-no-scantrad.fr/lel2/series/tales_of_demons_and_gods/',\n",
    "    'Star_Martial_God_Technique': 'http://monster-no-scantrad.fr/lel2/series/star_martial_god_technique/',\n",
    "    'Ane Naru Mono': 'https://monster-no-scantrad.fr/lel2/series/ane_naru_mono/',\n",
    "    \"The Scholar's Reincarnation\" : 'https://monster-no-scantrad.fr/lel2/series/the_scholars_reincarnation/',\n",
    "    'Tensei Shitara Ken Deshita' : 'https://monster-no-scantrad.fr/lel2/series/tensei_shitara_ken_deshita/',\n",
    "    'Dou Po Cangqiong' : 'http://www.ryozanpaku.fr/LEL3/series/dou-po-cangqiong/',\n",
    "    'Dou Po Cangqiong Zhi Yao Lao Chuanqi' : 'http://www.ryozanpaku.fr/LEL3/series/dou-po-cang-qiong-zhi-yao-lao-chuanqi/',\n",
    "    'Wizardly Tower' : 'http://www.ryozanpaku.fr/LEL3/series/wizardly_tower/',\n",
    "    'Volcanic Age' : 'http://www.ryozanpaku.fr/LEL3/series/volcanic_age/'\n",
    "    }\n",
    "    url = mangadict[manga]\n",
    "    res = requests.get(url)\n",
    "    soup = bs4.BeautifulSoup(res.text, \"lxml\")\n",
    "    liste_elements = soup.find_all(\"div\", \"element\")\n",
    "    for element in reversed(liste_elements):\n",
    "        titreChap = rename_chap(element.find(\"div\", \"title\").find(\"a\").text.replace(\" \", \".\").replace(\":\", \"\"). \\\n",
    "            replace(\"\\\"\", \"\").replace(\"?\", \"\"))\n",
    "        lienChap = element.find(href=re.compile(\"download\"))['href']\n",
    "        filename = f'{downd}{titreChap}.zip'\n",
    "        if not os.path.isfile(filename):\n",
    "            print(f'Downloading : {filename} :: [    ]', end='\\r')\n",
    "            try:\n",
    "                resFile = requests.get(lienChap, stream=True)\n",
    "                resFile.raise_for_status()\n",
    "                zipTempFile = open('zipTemp.zip', 'wb')\n",
    "                for chunk in resFile.iter_content(100000):\n",
    "                    zipTempFile.write(chunk)\n",
    "                zipTempFile.close()\n",
    "                shutil.move('.\\\\zipTemp.zip', filename)\n",
    "                print(f'Downloading : {filename} :: [{col.Fore.BLUE}{col.Back.BLACK} OK {col.Style.RESET_ALL}]\\n', end='\\r')\n",
    "            except requests.exceptions.HTTPError:\n",
    "                print(f'Downloading : {filename} :: [{col.Fore.RED}{col.Back.BLACK} NOK {col.Style.RESET_ALL}]\\n', end='\\r')\n",
    "    return True"
   ]
  },
  {
   "cell_type": "code",
   "execution_count": 7,
   "metadata": {
    "scrolled": false
   },
   "outputs": [
    {
     "name": "stdout",
     "output_type": "stream",
     "text": [
      "Downloading : J:\\Mangas\\TEST\\The Scholar's Reincarnation\\Chapitre.29.one.zip :: [\u001b[34m\u001b[40m OK \u001b[0m]\n",
      "Downloading : J:\\Mangas\\TEST\\Tensei Shitara Ken Deshita\\Chapitre.10.two.zip :: [\u001b[34m\u001b[40m OK \u001b[0m]\n",
      "\r"
     ]
    }
   ],
   "source": [
    "for manga in mangadict:\n",
    "    mangadown(manga, \"J:\\\\Mangas\\\\TEST\\\\\")"
   ]
  },
  {
   "cell_type": "code",
   "execution_count": 8,
   "metadata": {},
   "outputs": [
    {
     "name": "stdout",
     "output_type": "stream",
     "text": [
      "FINI !!!!!!!\n"
     ]
    }
   ],
   "source": [
    "print('FINI !!!!!!!')"
   ]
  },
  {
   "cell_type": "code",
   "execution_count": null,
   "metadata": {},
   "outputs": [],
   "source": []
  }
 ],
 "metadata": {
  "kernelspec": {
   "display_name": "Python 3",
   "language": "python",
   "name": "python3"
  },
  "language_info": {
   "codemirror_mode": {
    "name": "ipython",
    "version": 3
   },
   "file_extension": ".py",
   "mimetype": "text/x-python",
   "name": "python",
   "nbconvert_exporter": "python",
   "pygments_lexer": "ipython3",
   "version": "3.7.1"
  }
 },
 "nbformat": 4,
 "nbformat_minor": 2
}
